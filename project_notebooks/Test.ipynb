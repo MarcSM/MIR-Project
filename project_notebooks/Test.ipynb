{
 "cells": [
  {
   "cell_type": "code",
   "execution_count": 9,
   "metadata": {},
   "outputs": [],
   "source": [
    "import os\n",
    "import essentia as ess\n",
    "import essentia.standard as estd\n",
    "import matplotlib.pyplot as plt\n",
    "import numpy as np\n",
    "import pandas as pd\n",
    "\n",
    "# Defining some constants\n",
    "\n",
    "ANALYZE_SOUND_FRAME_SIZE = 512 # Surce sound analysis frame sizes\n",
    "HOP_SIZE = 256 # Parameter used by the \"FrameGenerator\" and \"FFT\" functions\n",
    "GUESS_UNVOICED = True  # Read the algorithm's reference for more detail\n",
    "\n",
    "ROOT_PATH = os.path.normpath(os.getcwd() + os.sep + os.pardir)\n",
    "\n",
    "DATASET_PATH = os.path.join(ROOT_PATH,'data','adc2004_full_set')\n",
    "\n",
    "ERROR_TXT_FILE = os.path.join(DATASET_PATH,'error.txt')\n"
   ]
  },
  {
   "cell_type": "code",
   "execution_count": 18,
   "metadata": {},
   "outputs": [],
   "source": [
    "def process_file(filename, path = os.getcwd(), errorcav_path = ERROR_TXT_FILE, frame_size=ANALYZE_SOUND_FRAME_SIZE, hop_size=HOP_SIZE):\n",
    "    \"\"\"\n",
    "    filename: without extension\n",
    "    path: working directory, default pwd\n",
    "    \"\"\"\n",
    "    #audio_path = path + '/' + filename + '.wav'\n",
    "    audio_path = os.path.join(path, 'wav',filename + '.wav')\n",
    "    #csv_og_path = path + '/' + filename + 'REF.txt'\n",
    "    csv_og_path = os.path.join(path, 'csv_og',filename + 'REF.txt')\n",
    "    #csv_dest_path = path + '/' + filename + '_err.csv'\n",
    "    csv_dest_path = os.path.join(path, 'csv_dest',filename + '_err.csv')\n",
    "    #plot_path = path + '/' + filename + '.png'\n",
    "    plot_path = os.path.join(path, 'plots', filename + '.png')\n",
    "    \n",
    "    if not os.path.exists(os.path.join(path, 'wav')): raise ValueError(\"Audio files should be stored in path/wav/*******.wav\")\n",
    "    if not os.path.exists(os.path.join(path, 'csv_og')): raise ValueError(\"Csv files should be stored in path/csv_og/*******REF.txt\")\n",
    "    if not os.path.exists(os.path.join(path, 'csv_dest')): os.mkdir(os.path.join(path, 'csv_dest'))\n",
    "    if not os.path.exists(os.path.join(path, 'plots')): os.mkdir(os.path.join(path, 'plots'))\n",
    "\n",
    "    audio = estd.EqloudLoader(filename = audio_path, sampleRate = 44100)()\n",
    "\n",
    "    #aqui anira el nostre feature extractor\n",
    "    pitch_extractor = estd.PredominantPitchMelodia(frameSize=frame_size, hopSize=hop_size)\n",
    "    pitch_values, pitch_confidence = pitch_extractor(audio)\n",
    "    #fins aqui\n",
    "    \"\"\"\n",
    "    pitch_confidence = pitch_confidence/max(pitch_confidence)\n",
    "    mask = pitch_confidence<0.35\n",
    "    pitch_confidence[mask] = 0\n",
    "    pitch_values[mask] = 0.0\n",
    "    \"\"\"\n",
    "    with open(csv_og_path) as tsvfile:\n",
    "\n",
    "        # Reading the TSV's\n",
    "        frames = pd.read_csv(tsvfile, delimiter='     ', names =['time(ms)','pitch_reference'],index_col = 'time(ms)',engine='python')\n",
    "    \n",
    "    if frames.shape[0] < len(pitch_values): \n",
    "        pitch_values = pitch_values[:frames.shape[0]]\n",
    "    elif frames.shape[0] > len(pitch_values): \n",
    "        for _ in range(frames.shape[0]-len(pitch_values)):\n",
    "            pitch_values.append(0)\n",
    "    \n",
    "    frames[\"pitch_prediction\"] = pitch_values\n",
    "    frames[\"deviation\"] = abs(frames[\"pitch_reference\"] - frames[\"pitch_prediction\"])\n",
    "\n",
    "    frames.plot(subplots=True, layout=(3,1),figsize = (15,20))\n",
    "    plt.savefig(plot_path)\n",
    "    plt.close()\n",
    "    \n",
    "    err_sum = sum(frames[\"deviation\"].tolist())/frames[\"deviation\"].count()\n",
    "\n",
    "    with open(csv_dest_path,'w') as csvfile:\n",
    "        frames.to_csv(csvfile, sep = '\\t')\n",
    "\n",
    "    with open(ERROR_TXT_FILE,\"a\") as txtfile:\n",
    "        txtfile.write(filename + '\\t' + str(err_sum) + '\\n')\n",
    "        "
   ]
  },
  {
   "cell_type": "code",
   "execution_count": 19,
   "metadata": {},
   "outputs": [
    {
     "name": "stdout",
     "output_type": "stream",
     "text": [
      "Processing Files...\n",
      "All files were processed successfully\n"
     ]
    }
   ],
   "source": [
    "print(\"Processing Files...\")\n",
    "\n",
    "audio_path = os.path.join(DATASET_PATH, 'wav')\n",
    "\n",
    "files = (f for f in os.listdir(audio_path) if f.endswith('.wav'))\n",
    "\n",
    "if os.path.exists(ERROR_TXT_FILE): os.remove(ERROR_TXT_FILE)\n",
    "\n",
    "with open(ERROR_TXT_FILE,\"w\") as txtfile:\n",
    "    txtfile.write('file_name'+'\\t'+'error_sum'+'\\n') \n",
    "    \n",
    "for file in sorted(files):\n",
    "    filename,_ = os.path.splitext(file) \n",
    "    process_file(filename, DATASET_PATH);\n",
    "    \n",
    "print(\"All files were processed successfully\")\n"
   ]
  }
 ],
 "metadata": {
  "kernelspec": {
   "display_name": "Python 3",
   "language": "python",
   "name": "python3"
  },
  "language_info": {
   "codemirror_mode": {
    "name": "ipython",
    "version": 3
   },
   "file_extension": ".py",
   "mimetype": "text/x-python",
   "name": "python",
   "nbconvert_exporter": "python",
   "pygments_lexer": "ipython3",
   "version": "3.5.2"
  }
 },
 "nbformat": 4,
 "nbformat_minor": 2
}
