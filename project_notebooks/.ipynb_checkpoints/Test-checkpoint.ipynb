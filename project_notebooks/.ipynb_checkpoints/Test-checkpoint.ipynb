{
 "cells": [
  {
   "cell_type": "code",
   "execution_count": 9,
   "metadata": {},
   "outputs": [],
   "source": [
    "import os\n",
    "import essentia as ess\n",
    "import essentia.standard as estd\n",
    "import matplotlib.pyplot as plt\n",
    "import numpy as np\n",
    "import pandas as pd\n",
    "\n",
    "# Defining some constants\n",
    "\n",
    "ANALYZE_SOUND_FRAME_SIZE = 512 # Surce sound analysis frame sizes\n",
    "HOP_SIZE = 256 # Parameter used by the \"FrameGenerator\" and \"FFT\" functions\n",
    "GUESS_UNVOICED = True  # Read the algorithm's reference for more detail\n",
    "\n",
    "ROOT_PATH = os.path.normpath(os.getcwd() + os.sep + os.pardir)\n",
    "\n",
    "DATASET_PATH = os.path.join(ROOT_PATH,'data','adc2004_full_set')\n",
    "\n",
    "ERROR_TXT_FILE = os.path.join(DATASET_PATH,'error.txt')\n"
   ]
  },
  {
   "cell_type": "code",
   "execution_count": 12,
   "metadata": {},
   "outputs": [],
   "source": [
    "def process_file(filename, path = os.getcwd(), errorcav_path = ERROR_TXT_FILE, frame_size=ANALYZE_SOUND_FRAME_SIZE, hop_size=HOP_SIZE):\n",
    "    \"\"\"\n",
    "    filename: without extension\n",
    "    path: working directory, default pwd\n",
    "    \"\"\"\n",
    "    #audio_path = path + '/' + filename + '.wav'\n",
    "    audio_path = os.path.join(path, 'wav',filename + '.wav')\n",
    "    #csv_og_path = path + '/' + filename + 'REF.txt'\n",
    "    csv_og_path = os.path.join(path, 'csv_og',filename + 'REF.txt')\n",
    "    #csv_dest_path = path + '/' + filename + '_err.csv'\n",
    "    csv_dest_path = os.path.join(path, 'csv_dest',filename + '_err.csv')\n",
    "    #plot_path = path + '/' + filename + '.png'\n",
    "    plot_path = os.path.join(path, 'plots', filename + '.png')\n",
    "    \n",
    "    if not os.path.exists(os.path.join(path, 'wav')): raise ValueError(\"Audio files should be stored in path/wav/*******.wav\")\n",
    "    if not os.path.exists(os.path.join(path, 'csv_og')): raise ValueError(\"Csv files should be stored in path/csv_og/*******REF.txt\")\n",
    "    if not os.path.exists(os.path.join(path, 'csv_dest')): os.mkdir(os.path.join(path, 'csv_dest'))\n",
    "    if not os.path.exists(os.path.join(path, 'plots')): os.mkdir(os.path.join(path, 'plots'))\n",
    "\n",
    "    audio = estd.EqloudLoader(filename = audio_path, sampleRate = 44100)()\n",
    "\n",
    "    #aqui anira el nostre feature extractor\n",
    "    pitch_extractor = estd.PredominantPitchMelodia(frameSize=frame_size, hopSize=hop_size)\n",
    "    pitch_values, pitch_confidence = pitch_extractor(audio)\n",
    "    #fins aqui\n",
    "    \"\"\"\n",
    "    pitch_confidence = pitch_confidence/max(pitch_confidence)\n",
    "    mask = pitch_confidence<0.35\n",
    "    pitch_confidence[mask] = 0\n",
    "    pitch_values[mask] = 0.0\n",
    "    \"\"\"\n",
    "    with open(csv_og_path) as tsvfile:\n",
    "\n",
    "        # Reading the TSV's\n",
    "        frames = pd.read_csv(tsvfile, delimiter='     ', names =['time(ms)','pitch_reference'],index_col = 'time(ms)')\n",
    "    \n",
    "    if frames.shape[0] < len(pitch_values): \n",
    "        pitch_values = pitch_values[:frames.shape[0]]\n",
    "    elif frames.shape[0] > len(pitch_values): \n",
    "        for _ in range(frames.shape[0]-len(pitch_values)):\n",
    "            pitch_values.append(0)\n",
    "    \n",
    "    frames[\"pitch_prediction\"] = pitch_values\n",
    "    frames[\"deviation\"] = abs(frames[\"pitch_reference\"] - frames[\"pitch_prediction\"])\n",
    "\n",
    "    frames.plot(subplots=True, layout=(3,1),figsize = (15,20))\n",
    "    plt.savefig(plot_path)\n",
    "    plt.close()\n",
    "    \n",
    "    err_sum = sum(frames[\"deviation\"].tolist())/frames[\"deviation\"].count()\n",
    "\n",
    "    with open(csv_dest_path,'w') as csvfile:\n",
    "        frames.to_csv(csvfile, sep = '\\t')\n",
    "\n",
    "    with open(ERROR_TXT_FILE,\"a\") as txtfile:\n",
    "        txtfile.write(filename + '\\t' + str(err_sum) + '\\n')\n",
    "        "
   ]
  },
  {
   "cell_type": "code",
   "execution_count": 13,
   "metadata": {},
   "outputs": [
    {
     "name": "stdout",
     "output_type": "stream",
     "text": [
      "Processing Files...\n"
     ]
    },
    {
     "ename": "FileNotFoundError",
     "evalue": "[Errno 2] No such file or directory: '/notebooks/data/adc2004_full_set/csv_dest/daisy1_err.csv'",
     "output_type": "error",
     "traceback": [
      "\u001b[0;31m---------------------------------------------------------------------------\u001b[0m",
      "\u001b[0;31mFileNotFoundError\u001b[0m                         Traceback (most recent call last)",
      "\u001b[0;32m<ipython-input-13-5bcb6c43158c>\u001b[0m in \u001b[0;36m<module>\u001b[0;34m()\u001b[0m\n\u001b[1;32m     12\u001b[0m \u001b[0;32mfor\u001b[0m \u001b[0mfile\u001b[0m \u001b[0;32min\u001b[0m \u001b[0msorted\u001b[0m\u001b[0;34m(\u001b[0m\u001b[0mfiles\u001b[0m\u001b[0;34m)\u001b[0m\u001b[0;34m:\u001b[0m\u001b[0;34m\u001b[0m\u001b[0m\n\u001b[1;32m     13\u001b[0m     \u001b[0mfilename\u001b[0m\u001b[0;34m,\u001b[0m\u001b[0m_\u001b[0m \u001b[0;34m=\u001b[0m \u001b[0mos\u001b[0m\u001b[0;34m.\u001b[0m\u001b[0mpath\u001b[0m\u001b[0;34m.\u001b[0m\u001b[0msplitext\u001b[0m\u001b[0;34m(\u001b[0m\u001b[0mfile\u001b[0m\u001b[0;34m)\u001b[0m\u001b[0;34m\u001b[0m\u001b[0m\n\u001b[0;32m---> 14\u001b[0;31m     \u001b[0mprocess_file\u001b[0m\u001b[0;34m(\u001b[0m\u001b[0mfilename\u001b[0m\u001b[0;34m,\u001b[0m \u001b[0mDATASET_PATH\u001b[0m\u001b[0;34m)\u001b[0m\u001b[0;34m;\u001b[0m\u001b[0;34m\u001b[0m\u001b[0m\n\u001b[0m\u001b[1;32m     15\u001b[0m \u001b[0;34m\u001b[0m\u001b[0m\n\u001b[1;32m     16\u001b[0m \u001b[0mprint\u001b[0m\u001b[0;34m(\u001b[0m\u001b[0;34m\"All files were processed successfully\"\u001b[0m\u001b[0;34m)\u001b[0m\u001b[0;34m\u001b[0m\u001b[0m\n",
      "\u001b[0;32m<ipython-input-12-3febb5ffb0e8>\u001b[0m in \u001b[0;36mprocess_file\u001b[0;34m(filename, path, errorcav_path, frame_size, hop_size)\u001b[0m\n\u001b[1;32m     15\u001b[0m     \u001b[0;32mif\u001b[0m \u001b[0;32mnot\u001b[0m \u001b[0mos\u001b[0m\u001b[0;34m.\u001b[0m\u001b[0mpath\u001b[0m\u001b[0;34m.\u001b[0m\u001b[0mexists\u001b[0m\u001b[0;34m(\u001b[0m\u001b[0maudio_path\u001b[0m\u001b[0;34m)\u001b[0m\u001b[0;34m:\u001b[0m \u001b[0;32mraise\u001b[0m \u001b[0mValueError\u001b[0m\u001b[0;34m(\u001b[0m\u001b[0;34m\"Audio files should be stored in path/wav/*******.wav\"\u001b[0m\u001b[0;34m)\u001b[0m\u001b[0;34m\u001b[0m\u001b[0m\n\u001b[1;32m     16\u001b[0m     \u001b[0;32mif\u001b[0m \u001b[0;32mnot\u001b[0m \u001b[0mos\u001b[0m\u001b[0;34m.\u001b[0m\u001b[0mpath\u001b[0m\u001b[0;34m.\u001b[0m\u001b[0mexists\u001b[0m\u001b[0;34m(\u001b[0m\u001b[0mcsv_og_path\u001b[0m\u001b[0;34m)\u001b[0m\u001b[0;34m:\u001b[0m \u001b[0;32mraise\u001b[0m \u001b[0mValueError\u001b[0m\u001b[0;34m(\u001b[0m\u001b[0;34m\"Csv files should be stored in path/csv_og/*******REF.txt\"\u001b[0m\u001b[0;34m)\u001b[0m\u001b[0;34m\u001b[0m\u001b[0m\n\u001b[0;32m---> 17\u001b[0;31m     \u001b[0;32mif\u001b[0m \u001b[0;32mnot\u001b[0m \u001b[0mos\u001b[0m\u001b[0;34m.\u001b[0m\u001b[0mpath\u001b[0m\u001b[0;34m.\u001b[0m\u001b[0mexists\u001b[0m\u001b[0;34m(\u001b[0m\u001b[0mcsv_dest_path\u001b[0m\u001b[0;34m)\u001b[0m\u001b[0;34m:\u001b[0m \u001b[0mos\u001b[0m\u001b[0;34m.\u001b[0m\u001b[0mmkdir\u001b[0m\u001b[0;34m(\u001b[0m\u001b[0mcsv_dest_path\u001b[0m\u001b[0;34m)\u001b[0m\u001b[0;34m\u001b[0m\u001b[0m\n\u001b[0m\u001b[1;32m     18\u001b[0m     \u001b[0;32mif\u001b[0m \u001b[0;32mnot\u001b[0m \u001b[0mos\u001b[0m\u001b[0;34m.\u001b[0m\u001b[0mpath\u001b[0m\u001b[0;34m.\u001b[0m\u001b[0mexists\u001b[0m\u001b[0;34m(\u001b[0m\u001b[0mplot_path\u001b[0m\u001b[0;34m)\u001b[0m\u001b[0;34m:\u001b[0m \u001b[0mos\u001b[0m\u001b[0;34m.\u001b[0m\u001b[0mmkdir\u001b[0m\u001b[0;34m(\u001b[0m\u001b[0mplot_path\u001b[0m\u001b[0;34m)\u001b[0m\u001b[0;34m\u001b[0m\u001b[0m\n\u001b[1;32m     19\u001b[0m \u001b[0;34m\u001b[0m\u001b[0m\n",
      "\u001b[0;31mFileNotFoundError\u001b[0m: [Errno 2] No such file or directory: '/notebooks/data/adc2004_full_set/csv_dest/daisy1_err.csv'"
     ]
    }
   ],
   "source": [
    "print(\"Processing Files...\")\n",
    "\n",
    "audio_path = os.path.join(DATASET_PATH, 'wav')\n",
    "\n",
    "files = (f for f in os.listdir(audio_path) if f.endswith('.wav'))\n",
    "\n",
    "if os.path.exists(ERROR_TXT_FILE): os.remove(ERROR_TXT_FILE)\n",
    "\n",
    "with open(ERROR_TXT_FILE,\"w\") as txtfile:\n",
    "    txtfile.write('file_name'+'\\t'+'error_sum'+'\\n') \n",
    "    \n",
    "for file in sorted(files):\n",
    "    filename,_ = os.path.splitext(file) \n",
    "    process_file(filename, DATASET_PATH);\n",
    "    \n",
    "print(\"All files were processed successfully\")\n"
   ]
  },
  {
   "cell_type": "code",
   "execution_count": null,
   "metadata": {},
   "outputs": [],
   "source": []
  }
 ],
 "metadata": {
  "kernelspec": {
   "display_name": "Python 3",
   "language": "python",
   "name": "python3"
  },
  "language_info": {
   "codemirror_mode": {
    "name": "ipython",
    "version": 3
   },
   "file_extension": ".py",
   "mimetype": "text/x-python",
   "name": "python",
   "nbconvert_exporter": "python",
   "pygments_lexer": "ipython3",
   "version": "3.5.2"
  }
 },
 "nbformat": 4,
 "nbformat_minor": 2
}
