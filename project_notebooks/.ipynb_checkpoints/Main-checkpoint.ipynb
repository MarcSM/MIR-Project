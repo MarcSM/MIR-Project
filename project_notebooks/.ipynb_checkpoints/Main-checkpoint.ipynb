{
 "cells": [
  {
   "cell_type": "markdown",
   "metadata": {},
   "source": [
    "# Reproduction of the winner algorithm for ISMIR 2004\n",
    "\n",
    "This notebook tries to reproduce the approach of the winner algorithm for ISMIR 2004, here are the main sections:\n",
    "\n",
    "1. [Importing modules and some constants](#imports)\n",
    "2. [Loading the dataset](#loading_dataset)\n",
    "3. [Processing files](#processing_files)\n",
    "4. [Evaluating the accuracy](#evaluation)\n",
    "5. [Showing the results](#showing_results)\n",
    "\n",
    "<br>\n",
    "\n",
    "If you want so see in detail how each file is processed you can take a look at this [Single file analysis notebook](single_file_analysis.ipynb)"
   ]
  },
  {
   "cell_type": "markdown",
   "metadata": {},
   "source": [
    "#### Importing modules and some constants\n",
    "<a id=\"imports\"></a>"
   ]
  },
  {
   "cell_type": "code",
   "execution_count": 1,
   "metadata": {},
   "outputs": [],
   "source": [
    "import sys\n",
    "sys.path.append('../')\n",
    "\n",
    "from utils.constants import *\n",
    "from utils.eval_func import *\n",
    "from utils.process import *\n",
    "from utils.utils import *\n",
    "from utils.data_management import *\n"
   ]
  },
  {
   "cell_type": "markdown",
   "metadata": {},
   "source": [
    "#### Loading the dataset\n",
    "<a id=\"loading_dataset\"></a>"
   ]
  },
  {
   "cell_type": "code",
   "execution_count": 2,
   "metadata": {},
   "outputs": [],
   "source": [
    "files = load_dataset() #list with the file names without the extension"
   ]
  },
  {
   "cell_type": "markdown",
   "metadata": {},
   "source": [
    "#### Processing files\n",
    "<a id=\"processing_files\"></a>\n",
    "\n",
    "The files are processed and the result is saved into csv files"
   ]
  },
  {
   "cell_type": "code",
   "execution_count": null,
   "metadata": {},
   "outputs": [],
   "source": [
    "for i,filename in enumerate(files):\n",
    "    print(\"{0}/{1}\".format(i+1,len(files))) #progress\n",
    "    audio = load_file(filename) #loads the audio and applies an equal loudness filter\n",
    "    pitch = process_audio(audio) #returns the predominant pitch per frame\n",
    "    save_pitch(pitch,filename) #saves the pitches to the csv"
   ]
  },
  {
   "cell_type": "markdown",
   "metadata": {},
   "source": [
    "#### Evaluating the accuracy\n",
    "<a id=\"evaluation\"></a>"
   ]
  },
  {
   "cell_type": "code",
   "execution_count": 3,
   "metadata": {},
   "outputs": [],
   "source": [
    "os.remove(ERROR_CSV_FILE)\n",
    "\n",
    "for filename in files:\n",
    "    compute_error(filename)\n",
    "\n",
    "calculate_average_tsv(ERROR_CSV_FILE)"
   ]
  }
 ],
 "metadata": {
  "kernelspec": {
   "display_name": "Python 3",
   "language": "python",
   "name": "python3"
  },
  "language_info": {
   "codemirror_mode": {
    "name": "ipython",
    "version": 3
   },
   "file_extension": ".py",
   "mimetype": "text/x-python",
   "name": "python",
   "nbconvert_exporter": "python",
   "pygments_lexer": "ipython3",
   "version": "3.5.2"
  }
 },
 "nbformat": 4,
 "nbformat_minor": 2
}
