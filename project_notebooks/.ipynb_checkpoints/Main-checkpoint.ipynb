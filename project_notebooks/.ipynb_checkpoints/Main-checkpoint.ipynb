{
 "cells": [
  {
   "cell_type": "markdown",
   "metadata": {},
   "source": [
    "# Reproduction of the winner algorithm for ISMIR 2004\n",
    "\n",
    "This notebook tries to reproduce the approach of the winner algorithm for ISMIR 2004, here are the main sections:\n",
    "\n",
    "1. [Importing modules and some constants](#imports)\n",
    "2. [Loading the dataset](#loading_dataset)\n",
    "3. [Processing files](#processing_files)\n",
    "4. [Evaluating the accuracy](#evaluation)\n",
    "5. [Showing the results](#showing_results)\n",
    "\n",
    "<br>\n",
    "\n",
    "If you want so see in detail how each file is processed you can take a look at this [Single file analysis notebook](single_file_analysis.ipynb)"
   ]
  },
  {
   "cell_type": "markdown",
   "metadata": {},
   "source": [
    "#### Importing modules and some constants\n",
    "<a id=\"imports\"></a>"
   ]
  },
  {
   "cell_type": "code",
   "execution_count": 1,
   "metadata": {},
   "outputs": [],
   "source": [
    "import sys\n",
    "sys.path.append('../')\n",
    "\n",
    "from utils.constants import *\n",
    "from utils.eval_func import *\n",
    "from utils.process import *\n",
    "from utils.utils import *\n",
    "from utils.data_management import *\n"
   ]
  },
  {
   "cell_type": "markdown",
   "metadata": {},
   "source": [
    "#### Loading the dataset\n",
    "<a id=\"loading_dataset\"></a>"
   ]
  },
  {
   "cell_type": "code",
   "execution_count": 2,
   "metadata": {},
   "outputs": [],
   "source": [
    "files = load_dataset() #list with the file names without the extension"
   ]
  },
  {
   "cell_type": "markdown",
   "metadata": {},
   "source": [
    "#### Processing files\n",
    "<a id=\"processing_files\"></a>\n",
    "\n",
    "The files are processed and the result is saved into csv files"
   ]
  },
  {
   "cell_type": "code",
   "execution_count": 3,
   "metadata": {},
   "outputs": [
    {
     "name": "stdout",
     "output_type": "stream",
     "text": [
      "1/20\n",
      "2/20\n",
      "3/20\n",
      "4/20\n",
      "5/20\n",
      "6/20\n",
      "7/20\n",
      "8/20\n",
      "9/20\n",
      "10/20\n",
      "11/20\n",
      "12/20\n",
      "13/20\n",
      "14/20\n",
      "15/20\n",
      "16/20\n",
      "17/20\n",
      "18/20\n",
      "19/20\n",
      "20/20\n"
     ]
    }
   ],
   "source": [
    "for i,filename in enumerate(files):\n",
    "    print(\"{0}/{1}\".format(i+1,len(files))) #progress\n",
    "    audio = load_file(filename) #loads the audio and applies an equal loudness filter\n",
    "    pitch = process_audio(audio) #returns the predominant pitch per frame\n",
    "    save_pitch(pitch,filename) #saves the pitches to the csv"
   ]
  },
  {
   "cell_type": "markdown",
   "metadata": {},
   "source": [
    "#### Evaluating the accuracy\n",
    "<a id=\"evaluation\"></a>"
   ]
  },
  {
   "cell_type": "code",
   "execution_count": 4,
   "metadata": {},
   "outputs": [
    {
     "name": "stdout",
     "output_type": "stream",
     "text": [
      "             evalOption1  evalOption2    Average\n",
      "daisy1         21.076346    21.974818  21.525582\n",
      "daisy2         11.574195    11.722405  11.648300\n",
      "daisy3        -31.354342   -26.031283 -28.692812\n",
      "daisy4        -20.272232   -14.822321 -17.547277\n",
      "jazz1           3.839441     4.771469   4.305455\n",
      "jazz2          -7.199219    -4.997685  -6.128452\n",
      "jazz3          22.170908    25.811593  23.991250\n",
      "jazz4          -6.248834     0.181844  -3.033495\n",
      "midi1         -39.789237   -28.220909 -34.000073\n",
      "midi2          -2.183133    -2.056784  -2.119959\n",
      "midi3          -8.080932    -7.145828  -7.613380\n",
      "midi4         -18.045172   -11.156877 -14.596025\n",
      "opera_fem2     27.382514    30.646524  29.009519\n",
      "opera_fem4     21.353859    22.332661  21.843260\n",
      "opera_male3     8.075789    12.477019  10.276404\n",
      "opera_male5    -2.611910     9.384668   3.386379\n",
      "pop1           -9.786861    -9.363589  -9.575225\n",
      "pop2          -11.247099    -6.937817  -9.092458\n",
      "pop3           -4.513677    -2.881501  -3.692589\n",
      "pop4            0.600075     2.648362   1.619219\n",
      "Average        -2.264976     1.416338  -0.424319\n"
     ]
    }
   ],
   "source": [
    "if os.path.exists(ERROR_CSV_FILE): os.remove(ERROR_CSV_FILE)\n",
    "\n",
    "for filename in files:\n",
    "    compute_error(filename)\n",
    "\n",
    "calculate_average_tsv(ERROR_CSV_FILE)\n",
    "calculate_difference_with_reference(ERROR_CSV_FILE, ERROR_WINNER_CSV_FILE)"
   ]
  }
 ],
 "metadata": {
  "kernelspec": {
   "display_name": "Python 3",
   "language": "python",
   "name": "python3"
  },
  "language_info": {
   "codemirror_mode": {
    "name": "ipython",
    "version": 3
   },
   "file_extension": ".py",
   "mimetype": "text/x-python",
   "name": "python",
   "nbconvert_exporter": "python",
   "pygments_lexer": "ipython3",
   "version": "3.5.2"
  }
 },
 "nbformat": 4,
 "nbformat_minor": 2
}
