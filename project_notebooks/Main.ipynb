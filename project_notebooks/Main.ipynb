{
 "cells": [
  {
   "cell_type": "markdown",
   "metadata": {},
   "source": [
    "# Reproduction of the winner algorithm for ISMIR 2004\n",
    "\n",
    "This notebook tries to reproduce the approach of the winner algorithm for ISMIR 2004, here are the main sections:\n",
    "\n",
    "1. [Importing modules and some constants](#imports)\n",
    "2. [Loading the dataset](#loading_dataset)\n",
    "3. [Processing files](#processing_files)\n",
    "4. [Evaluating the accuracy](#evaluation)\n",
    "5. [Showing the results](#showing_results)\n",
    "\n",
    "<br>\n",
    "\n",
    "If you want so see in detail how each file is processed you can take a look at this [Single file analysis notebook](single_file_analysis.ipynb)"
   ]
  },
  {
   "cell_type": "markdown",
   "metadata": {},
   "source": [
    "#### Importing modules and some constants\n",
    "<a id=\"imports\"></a>"
   ]
  },
  {
   "cell_type": "code",
   "execution_count": 1,
   "metadata": {},
   "outputs": [],
   "source": [
    "import sys\n",
    "sys.path.append('../')\n",
    "\n",
    "import time\n",
    "from IPython.display import clear_output\n",
    "from utils.constants import *\n",
    "from utils.eval_func import *\n",
    "from utils.process import *\n",
    "from utils.utils import *\n",
    "from utils.data_management import *"
   ]
  },
  {
   "cell_type": "markdown",
   "metadata": {},
   "source": [
    "#### Loading the dataset\n",
    "<a id=\"loading_dataset\"></a>"
   ]
  },
  {
   "cell_type": "code",
   "execution_count": 2,
   "metadata": {},
   "outputs": [],
   "source": [
    "files = load_dataset() #list with the file names without the extension"
   ]
  },
  {
   "cell_type": "markdown",
   "metadata": {},
   "source": [
    "#### Processing files\n",
    "<a id=\"processing_files\"></a>\n",
    "\n",
    "The files are processed and the result is saved into csv files"
   ]
  },
  {
   "cell_type": "code",
   "execution_count": 3,
   "metadata": {},
   "outputs": [
    {
     "name": "stdout",
     "output_type": "stream",
     "text": [
      "In average, each file took: 23.585863971710204  s to compute\n"
     ]
    }
   ],
   "source": [
    "times = []\n",
    "for i,filename in enumerate(files):\n",
    "    print(\"{0}/{1}\".format(i+1,len(files))) #progress\n",
    "    \n",
    "    audio = load_file(filename) #loads the audio and applies an equal loudness filter\n",
    "    \n",
    "    start = time.time()\n",
    "    pitch = process_audio(audio) #returns the predominant pitch per frame\n",
    "    times.append(time.time()-start)\n",
    "    \n",
    "    save_pitch(pitch,filename) #saves the pitches to the csv\n",
    "    clear_output()\n",
    "\n",
    "print(\"In average, each file took:\",sum(times)/len(times), \" s to compute\")"
   ]
  },
  {
   "cell_type": "markdown",
   "metadata": {},
   "source": [
    "#### Evaluating the accuracy\n",
    "<a id=\"evaluation\"></a>"
   ]
  },
  {
   "cell_type": "code",
   "execution_count": 4,
   "metadata": {},
   "outputs": [
    {
     "name": "stdout",
     "output_type": "stream",
     "text": [
      "             evalOption1  evalOption2    Average\n",
      "daisy1         21.775374    22.893070  22.334222\n",
      "daisy2         11.574195    11.722405  11.648300\n",
      "daisy3        -20.883988    -8.475805 -14.679897\n",
      "daisy4        -15.783013    -7.771313 -11.777163\n",
      "jazz1           8.901882    11.024089   9.962986\n",
      "jazz2          -2.343203     1.486645  -0.458279\n",
      "jazz3          25.259218    29.894537  27.576877\n",
      "jazz4          -0.996544     6.592192   2.797824\n",
      "midi1         -38.022517   -26.096947 -32.054732\n",
      "midi2           1.108295     1.841761   1.475028\n",
      "midi3          -4.882393    -3.071921  -3.977157\n",
      "midi4         -15.478408    -4.899013 -10.183710\n",
      "opera_fem2     28.852608    32.854528  30.848568\n",
      "opera_fem4     26.855578    28.849104  27.852341\n",
      "opera_male3    15.612432    22.993564  19.302998\n",
      "opera_male5    -0.759359    13.363598   6.302120\n",
      "pop1           -4.621708    -3.399255  -4.010481\n",
      "pop2           -8.461137    -3.161253  -5.811195\n",
      "pop3            0.101122     2.302388   1.206755\n",
      "pop4            8.223441    10.967204   9.590323\n",
      "Average         1.799594     6.994979   4.397286\n"
     ]
    }
   ],
   "source": [
    "if os.path.exists(ERROR_CSV_FILE): os.remove(ERROR_CSV_FILE)\n",
    "\n",
    "for filename in files:\n",
    "    compute_error(filename)\n",
    "\n",
    "calculate_average_tsv(ERROR_CSV_FILE)\n",
    "calculate_difference_with_reference(ERROR_CSV_FILE, ERROR_WINNER_CSV_FILE)"
   ]
  }
 ],
 "metadata": {
  "kernelspec": {
   "display_name": "Python 3",
   "language": "python",
   "name": "python3"
  },
  "language_info": {
   "codemirror_mode": {
    "name": "ipython",
    "version": 3
   },
   "file_extension": ".py",
   "mimetype": "text/x-python",
   "name": "python",
   "nbconvert_exporter": "python",
   "pygments_lexer": "ipython3",
   "version": "3.5.2"
  }
 },
 "nbformat": 4,
 "nbformat_minor": 2
}
